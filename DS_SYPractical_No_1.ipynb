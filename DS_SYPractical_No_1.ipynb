{
  "nbformat": 4,
  "nbformat_minor": 0,
  "metadata": {
    "colab": {
      "provenance": []
    },
    "kernelspec": {
      "name": "python3",
      "display_name": "Python 3"
    },
    "language_info": {
      "name": "python"
    }
  },
  "cells": [
    {
      "cell_type": "markdown",
      "source": [
        "#Practical No.1 \n",
        "##Aim : Write a program to swap rows and columns of a given array in reverse order using NumPy."
      ],
      "metadata": {
        "id": "oFAzDWK83EDs"
      }
    },
    {
      "cell_type": "code",
      "execution_count": null,
      "metadata": {
        "colab": {
          "base_uri": "https://localhost:8080/"
        },
        "id": "aCOAn-U_urMf",
        "outputId": "eac731d1-7bef-4d4a-cb6e-fdbebe5d16d3"
      },
      "outputs": [
        {
          "output_type": "stream",
          "name": "stdout",
          "text": [
            "Original array:\n",
            "[['c1' 'c2' 'c3' 'c4']\n",
            " ['0' '1' '3' '4']\n",
            " ['90' '91' '93' '94']\n",
            " ['5' '0' '3' '2']]\n"
          ]
        }
      ],
      "source": [
        "#import library\n",
        "import numpy as np\n",
        "\n",
        "#declare variable  \n",
        "nums = np.array([['c1', 'c2', 'c3', 'c4'],\n",
        "               [0, 1, 3, 4],\n",
        "               [90, 91, 93, 94],\n",
        "               [5, 0, 3, 2]])\n",
        "print(\"Original array:\")\n",
        "print(nums)"
      ]
    },
    {
      "cell_type": "code",
      "source": [
        "num1=nums\n",
        "num2=nums\n",
        "print(\"\\\\n Swap rows of the said array in reverse order\")\n",
        "swap_row=nums[::-1,::]\n",
        "print(swap_row)"
      ],
      "metadata": {
        "colab": {
          "base_uri": "https://localhost:8080/"
        },
        "id": "Z8oSYDOzyqz7",
        "outputId": "62f54181-14b4-4a79-eb69-30499473c7ac"
      },
      "execution_count": null,
      "outputs": [
        {
          "output_type": "stream",
          "name": "stdout",
          "text": [
            "\\n Swap rows of the said array in reverse order\n",
            "[['5' '0' '3' '2']\n",
            " ['90' '91' '93' '94']\n",
            " ['0' '1' '3' '4']\n",
            " ['c1' 'c2' 'c3' 'c4']]\n"
          ]
        }
      ]
    },
    {
      "cell_type": "markdown",
      "source": [
        "# slicing from index start to index stop-1\n",
        "arr[start:stop]\n",
        "\n",
        "# slicing from index start to the end\n",
        "arr[start:]\n",
        "\n",
        "# slicing from the beginning to index stop - 1\n",
        "arr[:stop]\n",
        "\n",
        "# slicing from the index start to index stop, by skipping step\n",
        "arr[start:stop:step]\n",
        "\n",
        "# slicing from 1st to last in steps of 1 in reverse order\n",
        "arr[::-1]"
      ],
      "metadata": {
        "id": "GaQxv1t-3Iwe"
      }
    },
    {
      "cell_type": "code",
      "source": [
        "print(\"\\\\n Swap columns of the said array in reverse order\")\n",
        "swap_col=num1[::,::-1]\n",
        "print(swap_col)"
      ],
      "metadata": {
        "colab": {
          "base_uri": "https://localhost:8080/"
        },
        "id": "V4mn8Di1zYdV",
        "outputId": "a1d7ae98-d699-49fb-fea1-76064408f7f2"
      },
      "execution_count": null,
      "outputs": [
        {
          "output_type": "stream",
          "name": "stdout",
          "text": [
            "\\n Swap columns of the said array in reverse order\n",
            "[['c4' 'c3' 'c2' 'c1']\n",
            " ['4' '3' '1' '0']\n",
            " ['94' '93' '91' '90']\n",
            " ['2' '3' '0' '5']]\n"
          ]
        }
      ]
    },
    {
      "cell_type": "code",
      "source": [
        "# perfrom reverse operation on rows and\n",
        "print(\"\\nSwap rows and columns of the said array in reverse order:\")\n",
        "new_nums = num1[::-1, ::-1]\n",
        "print(new_nums)\n",
        "\n"
      ],
      "metadata": {
        "colab": {
          "base_uri": "https://localhost:8080/"
        },
        "id": "kM7eN7MRu422",
        "outputId": "5eebc7ff-c6f5-4f52-b3e1-d9c98aaaddb6"
      },
      "execution_count": null,
      "outputs": [
        {
          "output_type": "stream",
          "name": "stdout",
          "text": [
            "\n",
            "Swap rows and columns of the said array in reverse order:\n",
            "[['2' '3' '0' '5']\n",
            " ['94' '93' '91' '90']\n",
            " ['4' '3' '1' '0']\n",
            " ['c4' 'c3' 'c2' 'c1']]\n"
          ]
        }
      ]
    },
    {
      "cell_type": "code",
      "source": [
        "#\n",
        "import numpy as np\n",
        "my_array = np.arange(12).reshape(3, 4)\n",
        "print(\"Original array:\")\n",
        "print(my_array)\n",
        "my_array[:,[0, 1]] = my_array[:,[1, 0]]\n",
        "print(\"\\nAfter swapping columns:\")\n",
        "print(my_array)"
      ],
      "metadata": {
        "colab": {
          "base_uri": "https://localhost:8080/"
        },
        "id": "JlgejopG0kTs",
        "outputId": "e2df2e9c-4c36-4e4e-a238-245baedd321b"
      },
      "execution_count": null,
      "outputs": [
        {
          "output_type": "stream",
          "name": "stdout",
          "text": [
            "Original array:\n",
            "[[ 0  1  2  3]\n",
            " [ 4  5  6  7]\n",
            " [ 8  9 10 11]]\n",
            "\n",
            "After swapping columns:\n",
            "[[ 1  0  2  3]\n",
            " [ 5  4  6  7]\n",
            " [ 9  8 10 11]]\n"
          ]
        }
      ]
    },
    {
      "cell_type": "markdown",
      "source": [
        "Create a NumPy ndarray Object\n",
        "\n",
        "---\n",
        "\n",
        "\n",
        "NumPy is used to work with arrays. The array object in NumPy is called ndarray.\n",
        "\n",
        "We can create a NumPy ndarray object by using the array() function.\n"
      ],
      "metadata": {
        "id": "3zcmSIp9-xc3"
      }
    },
    {
      "cell_type": "code",
      "source": [
        "import numpy as np\n",
        "\n",
        "arr = np.array([1, 2, 3, 4, 5])\n",
        "\n",
        "print(arr)\n",
        "\n",
        "print(type(arr))"
      ],
      "metadata": {
        "id": "AJszbpor3AHH",
        "colab": {
          "base_uri": "https://localhost:8080/"
        },
        "outputId": "ace2811a-8977-480a-f5e9-46838e53a6ef"
      },
      "execution_count": null,
      "outputs": [
        {
          "output_type": "stream",
          "name": "stdout",
          "text": [
            "[1 2 3 4 5]\n",
            "<class 'numpy.ndarray'>\n"
          ]
        }
      ]
    },
    {
      "cell_type": "markdown",
      "source": [
        "type(): This built-in Python function tells us the type of the object passed to it. Like in above code it shows that arr is numpy.ndarray type."
      ],
      "metadata": {
        "id": "yP0qgz8u_AzV"
      }
    },
    {
      "cell_type": "code",
      "source": [
        "#To create an ndarray, we can pass a list, tuple or any array-like object into the array() method, and it will be converted into an ndarray:\n",
        "#Use a tuple to create a NumPy array:\n",
        "\n",
        "import numpy as np\n",
        "\n",
        "arr = np.array((1, 2, 3, 4, 5))\n",
        "\n",
        "print(arr)"
      ],
      "metadata": {
        "id": "Z-Kyy6TR_CNd",
        "colab": {
          "base_uri": "https://localhost:8080/"
        },
        "outputId": "8a489f86-1f81-4481-9c69-cfe89f17304f"
      },
      "execution_count": null,
      "outputs": [
        {
          "output_type": "stream",
          "name": "stdout",
          "text": [
            "[1 2 3 4 5]\n"
          ]
        }
      ]
    },
    {
      "cell_type": "markdown",
      "source": [
        "#Dimensions in Arrays\n",
        "\n",
        "---\n",
        "\n",
        "#0-D Arrays\n",
        "0-D arrays, or Scalars, are the elements in an array. Each value in an array is a 0-D array. \n",
        "\n",
        "A dimension in arrays is one level of array depth (nested arrays).\n",
        "\n",
        "nested array: are arrays that have arrays as their elements."
      ],
      "metadata": {
        "id": "Ebuqiirf_WPL"
      }
    },
    {
      "cell_type": "code",
      "source": [
        "#Create a 0-D array with value 42\n",
        "\n",
        "import numpy as np\n",
        "\n",
        "arr = np.array(42)\n",
        "\n",
        "print(arr)"
      ],
      "metadata": {
        "colab": {
          "base_uri": "https://localhost:8080/"
        },
        "id": "SESUGpHl_2ws",
        "outputId": "cb55427e-060e-4ac0-da0b-2c017cad93b1"
      },
      "execution_count": null,
      "outputs": [
        {
          "output_type": "stream",
          "name": "stdout",
          "text": [
            "42\n"
          ]
        }
      ]
    },
    {
      "cell_type": "markdown",
      "source": [
        "#1-D Arrays\n",
        "An array that has 0-D arrays as its elements is called uni-dimensional or 1-D array.\n",
        "\n",
        "These are the most common and basic arrays."
      ],
      "metadata": {
        "id": "ClpaWNxpAGs9"
      }
    },
    {
      "cell_type": "code",
      "source": [
        "#Create a 1-D array containing the values 1,2,3,4,5:\n",
        "\n",
        "import numpy as np\n",
        "\n",
        "arr = np.array([1, 2, 3, 4, 5])\n",
        "\n",
        "print(arr)"
      ],
      "metadata": {
        "colab": {
          "base_uri": "https://localhost:8080/"
        },
        "id": "8xANcRzWAGDw",
        "outputId": "68325555-96fe-428f-9caf-b79e38690ee1"
      },
      "execution_count": null,
      "outputs": [
        {
          "output_type": "stream",
          "name": "stdout",
          "text": [
            "[1 2 3 4 5]\n"
          ]
        }
      ]
    },
    {
      "cell_type": "code",
      "source": [
        "import numpy as np\n",
        "a=np.array([[13,12],[1,5]])\n",
        "b=np.array([[2,6],[3,4]])\n",
        "\n",
        "#np.dot(a,b)\n",
        "c=a-b\n",
        "#print(c)\n",
        "print('1st Array : ')\n",
        "print(a)\n",
        "print('2nd Array : ')\n",
        "print(b)\n",
        "\n",
        "#a.ndim"
      ],
      "metadata": {
        "id": "LYzwVjatATOt",
        "colab": {
          "base_uri": "https://localhost:8080/"
        },
        "outputId": "2f0b21f0-5881-487e-dd3d-74a8b394b9f4"
      },
      "execution_count": null,
      "outputs": [
        {
          "output_type": "stream",
          "name": "stdout",
          "text": [
            "1st Array : \n",
            "[[13 12]\n",
            " [ 1  5]]\n",
            "2nd Array : \n",
            "[[2 6]\n",
            " [3 4]]\n"
          ]
        }
      ]
    }
  ]
}